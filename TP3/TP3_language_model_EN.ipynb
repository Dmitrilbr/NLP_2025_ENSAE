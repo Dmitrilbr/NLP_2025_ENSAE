{
 "cells": [
  {
   "cell_type": "markdown",
   "id": "e30626a2",
   "metadata": {},
   "source": [
    "# NLP Lab: Language Models\n",
    "\n",
    "In this lab, we will build the main components of the GPT-2 model and train a small model on poems by Victor Hugo.\n",
    "\n",
    "The questions are included in this notebook. To run the training, you will need to modify the `gpt_single_head.py` file, which is also available in the Git repository.\n",
    "\n",
    "## Data\n",
    "\n",
    "The training data consists of a collection of poems by Victor Hugo, sourced from [gutenberg.org](https://www.gutenberg.org/). The dataset is available in the `data` directory.\n",
    "\n",
    "To reduce model complexity, we will model the text at the character level. Typically, language models process sequences of subwords using [tokenizers](https://huggingface.co/docs/transformers/tokenizer_summary) such as BPE, SentencePiece, or WordPiece.\n",
    "\n",
    "#### Questions:\n",
    "- Using [collections.Counter](https://docs.python.org/3/library/collections.html#collections.Counter), display the number of unique characters in the text and the frequency of each character."
   ]
  },
  {
   "cell_type": "code",
   "execution_count": 2,
   "id": "b4d4ab91",
   "metadata": {},
   "outputs": [
    {
     "name": "stdout",
     "output_type": "stream",
     "text": [
      "Number of characters in the file: 285222\n",
      "Number of character in counter: 285222\n",
      "101 different characters\n",
      "Counter({' ': 49127, 'e': 30253, 's': 17987, 'u': 14254, 'r': 14223, 't': 14071, 'a': 14048, 'n': 13725, 'i': 12828, 'o': 12653, 'l': 11638, '\\n': 8102, 'm': 6495, 'd': 6375, ',': 6077, 'c': 5074, 'p': 4206, \"'\": 3820, 'v': 3492, 'é': 2943, 'b': 2783, 'f': 2772, 'h': 2221, 'q': 1956, 'g': 1790, '.': 1420, 'x': 1154, 'L': 1147, '!': 1121, 'E': 1074, ';': 1043, '-': 1020, 'j': 890, 'D': 764, 'è': 725, 'à': 706, 'y': 660, 'I': 627, 'ê': 605, 'C': 593, 'S': 545, 'A': 530, 'Q': 503, 'z': 482, 'J': 471, 'O': 450, 'T': 441, 'P': 435, '?': 388, 'V': 383, 'â': 381, 'N': 362, 'M': 344, 'ù': 298, ':': 294, 'R': 240, 'î': 214, 'U': 208, 'ô': 159, 'X': 150, '1': 146, 'H': 116, 'F': 114, '5': 111, '8': 93, 'B': 78, '«': 74, 'É': 70, '»': 69, 'G': 67, '4': 64, 'û': 62, '3': 47, 'ç': 34, 'À': 33, 'ë': 32, 'ï': 31, '2': 30, '·': 26, 'Ê': 24, '6': 23, '7': 23, 'Ô': 19, '9': 19, 'È': 11, 'k': 10, '0': 10, '_': 8, 'Z': 7, 'Æ': 4, '[': 4, ']': 4, 'w': 3, 'K': 3, 'Y': 3, 'Ë': 2, '(': 2, ')': 2, 'Â': 2, 'Î': 1, 'W': 1})\n"
     ]
    }
   ],
   "source": [
    "import collections\n",
    "\n",
    "with open('hugo_contemplations.txt', 'r', encoding='utf-8') as f:\n",
    "    text = f.read()\n",
    "\n",
    "print(f'Number of characters in the file: {len(text)}')\n",
    "##  YOUR CODE HERE\n",
    "counter = collections.Counter(text)\n",
    "\n",
    "chars = list(counter.keys())\n",
    "###\n",
    "\n",
    "print (f'Number of character in counter: {sum(counter.values())}')\n",
    "print (f'{len(chars)} different characters')\n",
    "print (counter)\n"
   ]
  },
  {
   "cell_type": "markdown",
   "id": "d80b661f",
   "metadata": {},
   "source": [
    "### Encoding / Decoding  \n",
    "\n",
    "To transform the text into a vector for the neural network, each character must be encoded as an integer.  \n",
    "\n",
    "The following functions perform the encoding and decoding of characters:"
   ]
  },
  {
   "cell_type": "code",
   "execution_count": 7,
   "id": "8d9c974d",
   "metadata": {},
   "outputs": [],
   "source": [
    "# create a mapping from characters to integers\n",
    "stoi = { ch:i for i,ch in enumerate(chars) }\n",
    "itos = { i:ch for i,ch in enumerate(chars) }\n",
    "encode = lambda s: [stoi[c] for c in s] # encoder: transform a string into a list of integers\n",
    "decode = lambda l: ''.join([itos[i] for i in l]) # decoder: transform a list of integers into a string\n",
    "\n",
    "\n",
    "# test that your encoder/decoder is coherent\n",
    "testString = \"\\nDemain, dès l'aube\"\n",
    "assert decode(encode (testString)) ==  testString"
   ]
  },
  {
   "cell_type": "markdown",
   "id": "bf2a633d",
   "metadata": {},
   "source": [
    "### Train/Validation Split  \n",
    "\n",
    "Since the goal is to predict poems, the lines should not be shuffled randomly. Instead, we must preserve the order of the lines in the text and take only the first 90% for training, while using the remaining 10% to monitor learning.  \n",
    "\n",
    "#### Questions:  \n",
    "- Split the data into `train_data` (90%) and `val_data` (10%) using slicing on the dataset."
   ]
  },
  {
   "cell_type": "code",
   "execution_count": 4,
   "id": "a0b631fa-59bf-4004-9262-d3db55302c10",
   "metadata": {},
   "outputs": [
    {
     "name": "stdout",
     "output_type": "stream",
     "text": [
      "Collecting torch\n",
      "  Downloading torch-2.6.0-cp312-cp312-manylinux1_x86_64.whl.metadata (28 kB)\n",
      "Collecting filelock (from torch)\n",
      "  Downloading filelock-3.17.0-py3-none-any.whl.metadata (2.9 kB)\n",
      "Requirement already satisfied: typing-extensions>=4.10.0 in /opt/conda/lib/python3.12/site-packages (from torch) (4.12.2)\n",
      "Requirement already satisfied: networkx in /opt/conda/lib/python3.12/site-packages (from torch) (3.4.2)\n",
      "Requirement already satisfied: jinja2 in /opt/conda/lib/python3.12/site-packages (from torch) (3.1.5)\n",
      "Requirement already satisfied: fsspec in /opt/conda/lib/python3.12/site-packages (from torch) (2025.2.0)\n",
      "Collecting nvidia-cuda-nvrtc-cu12==12.4.127 (from torch)\n",
      "  Downloading nvidia_cuda_nvrtc_cu12-12.4.127-py3-none-manylinux2014_x86_64.whl.metadata (1.5 kB)\n",
      "Collecting nvidia-cuda-runtime-cu12==12.4.127 (from torch)\n",
      "  Downloading nvidia_cuda_runtime_cu12-12.4.127-py3-none-manylinux2014_x86_64.whl.metadata (1.5 kB)\n",
      "Collecting nvidia-cuda-cupti-cu12==12.4.127 (from torch)\n",
      "  Downloading nvidia_cuda_cupti_cu12-12.4.127-py3-none-manylinux2014_x86_64.whl.metadata (1.6 kB)\n",
      "Collecting nvidia-cudnn-cu12==9.1.0.70 (from torch)\n",
      "  Downloading nvidia_cudnn_cu12-9.1.0.70-py3-none-manylinux2014_x86_64.whl.metadata (1.6 kB)\n",
      "Collecting nvidia-cublas-cu12==12.4.5.8 (from torch)\n",
      "  Downloading nvidia_cublas_cu12-12.4.5.8-py3-none-manylinux2014_x86_64.whl.metadata (1.5 kB)\n",
      "Collecting nvidia-cufft-cu12==11.2.1.3 (from torch)\n",
      "  Downloading nvidia_cufft_cu12-11.2.1.3-py3-none-manylinux2014_x86_64.whl.metadata (1.5 kB)\n",
      "Collecting nvidia-curand-cu12==10.3.5.147 (from torch)\n",
      "  Downloading nvidia_curand_cu12-10.3.5.147-py3-none-manylinux2014_x86_64.whl.metadata (1.5 kB)\n",
      "Collecting nvidia-cusolver-cu12==11.6.1.9 (from torch)\n",
      "  Downloading nvidia_cusolver_cu12-11.6.1.9-py3-none-manylinux2014_x86_64.whl.metadata (1.6 kB)\n",
      "Collecting nvidia-cusparse-cu12==12.3.1.170 (from torch)\n",
      "  Downloading nvidia_cusparse_cu12-12.3.1.170-py3-none-manylinux2014_x86_64.whl.metadata (1.6 kB)\n",
      "Collecting nvidia-cusparselt-cu12==0.6.2 (from torch)\n",
      "  Downloading nvidia_cusparselt_cu12-0.6.2-py3-none-manylinux2014_x86_64.whl.metadata (6.8 kB)\n",
      "Collecting nvidia-nccl-cu12==2.21.5 (from torch)\n",
      "  Downloading nvidia_nccl_cu12-2.21.5-py3-none-manylinux2014_x86_64.whl.metadata (1.8 kB)\n",
      "Collecting nvidia-nvtx-cu12==12.4.127 (from torch)\n",
      "  Downloading nvidia_nvtx_cu12-12.4.127-py3-none-manylinux2014_x86_64.whl.metadata (1.7 kB)\n",
      "Collecting nvidia-nvjitlink-cu12==12.4.127 (from torch)\n",
      "  Downloading nvidia_nvjitlink_cu12-12.4.127-py3-none-manylinux2014_x86_64.whl.metadata (1.5 kB)\n",
      "Collecting triton==3.2.0 (from torch)\n",
      "  Downloading triton-3.2.0-cp312-cp312-manylinux_2_17_x86_64.manylinux2014_x86_64.whl.metadata (1.4 kB)\n",
      "Requirement already satisfied: setuptools in /opt/conda/lib/python3.12/site-packages (from torch) (75.8.0)\n",
      "Collecting sympy==1.13.1 (from torch)\n",
      "  Downloading sympy-1.13.1-py3-none-any.whl.metadata (12 kB)\n",
      "Collecting mpmath<1.4,>=1.1.0 (from sympy==1.13.1->torch)\n",
      "  Downloading mpmath-1.3.0-py3-none-any.whl.metadata (8.6 kB)\n",
      "Requirement already satisfied: MarkupSafe>=2.0 in /opt/conda/lib/python3.12/site-packages (from jinja2->torch) (3.0.2)\n",
      "Downloading torch-2.6.0-cp312-cp312-manylinux1_x86_64.whl (766.6 MB)\n",
      "\u001b[2K   \u001b[90m━━━━━━━━━━━━━━━━━━━━━━━━━━━━━━━━━━━━━━━━\u001b[0m \u001b[32m766.6/766.6 MB\u001b[0m \u001b[31m72.9 MB/s\u001b[0m eta \u001b[36m0:00:00\u001b[0m00:01\u001b[0m00:01\u001b[0m\n",
      "\u001b[?25hDownloading nvidia_cublas_cu12-12.4.5.8-py3-none-manylinux2014_x86_64.whl (363.4 MB)\n",
      "\u001b[2K   \u001b[90m━━━━━━━━━━━━━━━━━━━━━━━━━━━━━━━━━━━━━━━━\u001b[0m \u001b[32m363.4/363.4 MB\u001b[0m \u001b[31m64.7 MB/s\u001b[0m eta \u001b[36m0:00:00\u001b[0m00:01\u001b[0m00:01\u001b[0m\n",
      "\u001b[?25hDownloading nvidia_cuda_cupti_cu12-12.4.127-py3-none-manylinux2014_x86_64.whl (13.8 MB)\n",
      "\u001b[2K   \u001b[90m━━━━━━━━━━━━━━━━━━━━━━━━━━━━━━━━━━━━━━━━\u001b[0m \u001b[32m13.8/13.8 MB\u001b[0m \u001b[31m96.8 MB/s\u001b[0m eta \u001b[36m0:00:00\u001b[0m\n",
      "\u001b[?25hDownloading nvidia_cuda_nvrtc_cu12-12.4.127-py3-none-manylinux2014_x86_64.whl (24.6 MB)\n",
      "\u001b[2K   \u001b[90m━━━━━━━━━━━━━━━━━━━━━━━━━━━━━━━━━━━━━━━━\u001b[0m \u001b[32m24.6/24.6 MB\u001b[0m \u001b[31m84.1 MB/s\u001b[0m eta \u001b[36m0:00:00\u001b[0mta \u001b[36m0:00:01\u001b[0m\n",
      "\u001b[?25hDownloading nvidia_cuda_runtime_cu12-12.4.127-py3-none-manylinux2014_x86_64.whl (883 kB)\n",
      "\u001b[2K   \u001b[90m━━━━━━━━━━━━━━━━━━━━━━━━━━━━━━━━━━━━━━━━\u001b[0m \u001b[32m883.7/883.7 kB\u001b[0m \u001b[31m85.1 MB/s\u001b[0m eta \u001b[36m0:00:00\u001b[0m\n",
      "\u001b[?25hDownloading nvidia_cudnn_cu12-9.1.0.70-py3-none-manylinux2014_x86_64.whl (664.8 MB)\n",
      "\u001b[2K   \u001b[90m━━━━━━━━━━━━━━━━━━━━━━━━━━━━━━━━━━━━━━━━\u001b[0m \u001b[32m664.8/664.8 MB\u001b[0m \u001b[31m40.6 MB/s\u001b[0m eta \u001b[36m0:00:00\u001b[0m00:01\u001b[0m00:01\u001b[0m\n",
      "\u001b[?25hDownloading nvidia_cufft_cu12-11.2.1.3-py3-none-manylinux2014_x86_64.whl (211.5 MB)\n",
      "\u001b[2K   \u001b[90m━━━━━━━━━━━━━━━━━━━━━━━━━━━━━━━━━━━━━━━━\u001b[0m \u001b[32m211.5/211.5 MB\u001b[0m \u001b[31m81.7 MB/s\u001b[0m eta \u001b[36m0:00:00\u001b[0m00:01\u001b[0m00:01\u001b[0m\n",
      "\u001b[?25hDownloading nvidia_curand_cu12-10.3.5.147-py3-none-manylinux2014_x86_64.whl (56.3 MB)\n",
      "\u001b[2K   \u001b[90m━━━━━━━━━━━━━━━━━━━━━━━━━━━━━━━━━━━━━━━━\u001b[0m \u001b[32m56.3/56.3 MB\u001b[0m \u001b[31m88.9 MB/s\u001b[0m eta \u001b[36m0:00:00\u001b[0m:00:01\u001b[0m00:01\u001b[0m\n",
      "\u001b[?25hDownloading nvidia_cusolver_cu12-11.6.1.9-py3-none-manylinux2014_x86_64.whl (127.9 MB)\n",
      "\u001b[2K   \u001b[90m━━━━━━━━━━━━━━━━━━━━━━━━━━━━━━━━━━━━━━━━\u001b[0m \u001b[32m127.9/127.9 MB\u001b[0m \u001b[31m62.3 MB/s\u001b[0m eta \u001b[36m0:00:00\u001b[0m00:01\u001b[0m00:01\u001b[0m\n",
      "\u001b[?25hDownloading nvidia_cusparse_cu12-12.3.1.170-py3-none-manylinux2014_x86_64.whl (207.5 MB)\n",
      "\u001b[2K   \u001b[90m━━━━━━━━━━━━━━━━━━━━━━━━━━━━━━━━━━━━━━━━\u001b[0m \u001b[32m207.5/207.5 MB\u001b[0m \u001b[31m65.9 MB/s\u001b[0m eta \u001b[36m0:00:00\u001b[0m00:01\u001b[0m00:01\u001b[0m\n",
      "\u001b[?25hDownloading nvidia_cusparselt_cu12-0.6.2-py3-none-manylinux2014_x86_64.whl (150.1 MB)\n",
      "\u001b[2K   \u001b[90m━━━━━━━━━━━━━━━━━━━━━━━━━━━━━━━━━━━━━━━━\u001b[0m \u001b[32m150.1/150.1 MB\u001b[0m \u001b[31m84.9 MB/s\u001b[0m eta \u001b[36m0:00:00\u001b[0m00:01\u001b[0m00:01\u001b[0m\n",
      "\u001b[?25hDownloading nvidia_nccl_cu12-2.21.5-py3-none-manylinux2014_x86_64.whl (188.7 MB)\n",
      "\u001b[2K   \u001b[90m━━━━━━━━━━━━━━━━━━━━━━━━━━━━━━━━━━━━━━━━\u001b[0m \u001b[32m188.7/188.7 MB\u001b[0m \u001b[31m65.2 MB/s\u001b[0m eta \u001b[36m0:00:00\u001b[0m00:01\u001b[0m00:01\u001b[0m\n",
      "\u001b[?25hDownloading nvidia_nvjitlink_cu12-12.4.127-py3-none-manylinux2014_x86_64.whl (21.1 MB)\n",
      "\u001b[2K   \u001b[90m━━━━━━━━━━━━━━━━━━━━━━━━━━━━━━━━━━━━━━━━\u001b[0m \u001b[32m21.1/21.1 MB\u001b[0m \u001b[31m96.5 MB/s\u001b[0m eta \u001b[36m0:00:00\u001b[0m:00:01\u001b[0m\n",
      "\u001b[?25hDownloading nvidia_nvtx_cu12-12.4.127-py3-none-manylinux2014_x86_64.whl (99 kB)\n",
      "Downloading sympy-1.13.1-py3-none-any.whl (6.2 MB)\n",
      "\u001b[2K   \u001b[90m━━━━━━━━━━━━━━━━━━━━━━━━━━━━━━━━━━━━━━━━\u001b[0m \u001b[32m6.2/6.2 MB\u001b[0m \u001b[31m96.0 MB/s\u001b[0m eta \u001b[36m0:00:00\u001b[0m\n",
      "\u001b[?25hDownloading triton-3.2.0-cp312-cp312-manylinux_2_17_x86_64.manylinux2014_x86_64.whl (253.2 MB)\n",
      "\u001b[2K   \u001b[90m━━━━━━━━━━━━━━━━━━━━━━━━━━━━━━━━━━━━━━━━\u001b[0m \u001b[32m253.2/253.2 MB\u001b[0m \u001b[31m81.4 MB/s\u001b[0m eta \u001b[36m0:00:00\u001b[0m00:01\u001b[0m00:01\u001b[0m\n",
      "\u001b[?25hDownloading filelock-3.17.0-py3-none-any.whl (16 kB)\n",
      "Downloading mpmath-1.3.0-py3-none-any.whl (536 kB)\n",
      "\u001b[2K   \u001b[90m━━━━━━━━━━━━━━━━━━━━━━━━━━━━━━━━━━━━━━━━\u001b[0m \u001b[32m536.2/536.2 kB\u001b[0m \u001b[31m54.7 MB/s\u001b[0m eta \u001b[36m0:00:00\u001b[0m\n",
      "Installing collected packages: triton, nvidia-cusparselt-cu12, mpmath, sympy, nvidia-nvtx-cu12, nvidia-nvjitlink-cu12, nvidia-nccl-cu12, nvidia-curand-cu12, nvidia-cufft-cu12, nvidia-cuda-runtime-cu12, nvidia-cuda-nvrtc-cu12, nvidia-cuda-cupti-cu12, nvidia-cublas-cu12, filelock, nvidia-cusparse-cu12, nvidia-cudnn-cu12, nvidia-cusolver-cu12, torch\n",
      "Successfully installed filelock-3.17.0 mpmath-1.3.0 nvidia-cublas-cu12-12.4.5.8 nvidia-cuda-cupti-cu12-12.4.127 nvidia-cuda-nvrtc-cu12-12.4.127 nvidia-cuda-runtime-cu12-12.4.127 nvidia-cudnn-cu12-9.1.0.70 nvidia-cufft-cu12-11.2.1.3 nvidia-curand-cu12-10.3.5.147 nvidia-cusolver-cu12-11.6.1.9 nvidia-cusparse-cu12-12.3.1.170 nvidia-cusparselt-cu12-0.6.2 nvidia-nccl-cu12-2.21.5 nvidia-nvjitlink-cu12-12.4.127 nvidia-nvtx-cu12-12.4.127 sympy-1.13.1 torch-2.6.0 triton-3.2.0\n"
     ]
    }
   ],
   "source": [
    "!pip install torch"
   ]
  },
  {
   "cell_type": "code",
   "execution_count": 8,
   "id": "bf5b7420",
   "metadata": {},
   "outputs": [
    {
     "name": "stdout",
     "output_type": "stream",
     "text": [
      "Training data size: 256699\n",
      "Validation data size: 28523\n"
     ]
    }
   ],
   "source": [
    "import torch\n",
    "# Train and validation splits\n",
    "data = torch.tensor(encode(text), dtype=torch.long)\n",
    "## YOUR CODE HERE\n",
    "split_idx = int(0.9 * len(data))\n",
    "\n",
    "train_data = data[:split_idx]  \n",
    "val_data = data[split_idx:]    \n",
    "\n",
    "print(f'Training data size: {len(train_data)}')\n",
    "print(f'Validation data size: {len(val_data)}')\n",
    "\n",
    "###"
   ]
  },
  {
   "cell_type": "markdown",
   "id": "aa498280",
   "metadata": {},
   "source": [
    "### Context  \n",
    "\n",
    "The language model has a parameter that defines the maximum context size to consider when predicting the next character. This context is called `block_size`. The training data consists of sequences of consecutive characters, randomly sampled from the training set, with a length of `block_size`.  \n",
    "\n",
    "If the starting character of the sequence is `i`, then the context sequence is:  \n",
    "```python\n",
    "x = data[i:i+block_size]\n",
    "```\n",
    "And the target value to predict at each position in the context is the next character:  \n",
    "```python\n",
    "y = data[i+1:i+block_size+1]\n",
    "```\n",
    "\n"
   ]
  },
  {
   "cell_type": "code",
   "execution_count": 9,
   "id": "97a262bf",
   "metadata": {},
   "outputs": [
    {
     "name": "stdout",
     "output_type": "stream",
     "text": [
      "tensor([255286])\n",
      "context is >s< target is > <\n",
      "context is >s < target is >p<\n",
      "context is >s p< target is >e<\n",
      "context is >s pe< target is >n<\n",
      "context is >s pen< target is >d<\n",
      "context is >s pend< target is >r<\n",
      "context is >s pendr< target is >e<\n",
      "context is >s pendre< target is >,<\n"
     ]
    }
   ],
   "source": [
    "block_size = 8\n",
    "\n",
    "i  = torch.randint(len(data) - block_size, (1,))\n",
    "print (i)\n",
    "x = train_data[i:i+block_size]\n",
    "y = train_data[i+1:i+1+block_size]\n",
    "\n",
    "for t in range(block_size):\n",
    "    context = x[:t+1]\n",
    "    target = y[t]\n",
    "    print (f'context is >{decode(context.tolist())}< target is >{decode([target.tolist()])}<')"
   ]
  },
  {
   "cell_type": "markdown",
   "id": "0de81464",
   "metadata": {},
   "source": [
    "### Defining Batches  \n",
    "\n",
    "The training batches consist of multiple character sequences randomly sampled from `train_data`. To randomly select a sequence for the batch, we need to randomly pick a starting point in `train_data` and extract the following `block_size` characters. When selecting the starting point, ensure that there are enough characters remaining after it to form a full sequence of `block_size` characters.  \n",
    "\n",
    "#### Questions:  \n",
    "- Create the batches `x` by selecting `batch_size` sequences of length `block_size` starting from a randomly chosen index `i`. Stack the examples using `torch.stack`.  \n",
    "- Create the batches `y` by adding the next character following each sequence in `x`. Stack the examples using `torch.stack`.\n"
   ]
  },
  {
   "cell_type": "code",
   "execution_count": 131,
   "id": "9be91965",
   "metadata": {},
   "outputs": [],
   "source": [
    "batch_size = 4\n",
    "torch.manual_seed(2023)\n",
    "# data loading\n",
    "def get_batch(split):\n",
    "    # generate a small batch of data of inputs x and targets y\n",
    "    data = train_data if split == 'train' else val_data\n",
    "    ## YOUR CODE HERE\n",
    "    # select batch_size starting points in the data, store them in a list called starting_points\n",
    "    starting_points = torch.randint(len(data) - block_size, (batch_size,))\n",
    "    # x is the sequence of integer starting at each straing point and of length block_size\n",
    "    x = []\n",
    "    y = []\n",
    "    # Generate sequences and targets\n",
    "    for i in starting_points:\n",
    "        x.append(data[i:i+block_size])\n",
    "        y.append(data[i+1:i+block_size+1])\n",
    "\n",
    "    # Stack the sequences and targets into tensors\n",
    "    x = torch.stack(x)\n",
    "    y = torch.stack(y)\n",
    "    # send data and target to device\n",
    "    x, y = x.to(device), y.to(device)\n",
    "    return x, y"
   ]
  },
  {
   "cell_type": "markdown",
   "id": "6507313b",
   "metadata": {},
   "source": [
    "### First Model: A Bigram Model  \n",
    "\n",
    "The first model we will implement is a bigram model. It predicts the next character based only on the current character. This model can be stored in a simple matrix: for each character (row), we store the probability distribution over all possible next characters (columns). This can be implemented using a simple [`Embedding`](https://pytorch.org/docs/stable/generated/torch.nn.Embedding.html) layer in PyTorch.  \n",
    "\n",
    "#### Questions:  \n",
    "- In the constructor, define an Embedding layer of size `vocab_size × vocab_size`.  \n",
    "- In the `forward` method, apply the embedding layer to the batch of indices (`x`).  \n",
    "- In the `forward` method, define the loss as `cross_entropy` between the predictions and the target (`y`).\n"
   ]
  },
  {
   "cell_type": "code",
   "execution_count": 132,
   "id": "9b7a7478",
   "metadata": {},
   "outputs": [],
   "source": [
    "import torch.nn as nn\n",
    "\n",
    "# use a gpu if we have one\n",
    "device = 'cuda' if torch.cuda.is_available() else 'cpu'\n",
    "\n",
    "# Simple bigram model\n",
    "class BigramLanguageModel(nn.Module):\n",
    "\n",
    "    def __init__(self, vocab_size):\n",
    "        super().__init__()\n",
    "        # we use a simple vocab_size times vocab_size tensor to store the probabilities \n",
    "        # of each token given a single token as context in nn.Embedding\n",
    "        # YOUR CODE HERE\n",
    "        self.embeddings = nn.Embedding(vocab_size, vocab_size)\n",
    "        ## \n",
    "        \n",
    "    def forward(self, idx, targets=None):\n",
    "\n",
    "        # idx and targets are both (Batch,Time) tensor of integers\n",
    "        # YOUR CODE HERE\n",
    "        logits = self.embeddings(idx)  # Shape: (Batch, Time, Vocab_size)\n",
    "        ## \n",
    "   \n",
    "        # don't compute loss if we don't have targets\n",
    "        if targets is None:\n",
    "            loss = None\n",
    "        else:\n",
    "            # change the shape of the logits and target to match what is needed for CrossEntropyLoss\n",
    "            # https://pytorch.org/docs/stable/generated/torch.nn.CrossEntropyLoss.html\n",
    "            Batch, Time, Channels = logits.shape\n",
    "            logits = logits.view(Batch*Time, Channels)\n",
    "            targets = targets.view(Batch*Time)\n",
    "            \n",
    "            # negative log likelihood between prediction and target\n",
    "            # YOUR CODE HERE\n",
    "            loss = nn.functional.cross_entropy(logits, targets)\n",
    "            ## \n",
    "\n",
    "        return logits, loss\n",
    "\n",
    "    def generate(self, idx, max_new_tokens):\n",
    "        # idx is (B, T) array of indices in the current context\n",
    "        for _ in range(max_new_tokens):\n",
    "            # get the predictions\n",
    "            logits, loss = self(idx)\n",
    "            # focus only on the last time step\n",
    "            logits = logits[:, -1, :] # becomes (B, C)\n",
    "            # apply softmax to get probabilities\n",
    "            probs = nn.functional.softmax(logits, dim=-1) # (B, C)\n",
    "            # sample from the distribution\n",
    "            idx_next = torch.multinomial(probs, num_samples=1) # (B, 1)\n",
    "            # append sampled index to the running sequence\n",
    "            idx = torch.cat((idx, idx_next), dim=1) # (B, T+1)\n",
    "        return idx\n",
    "\n",
    "vocab_size=101\n",
    "model = BigramLanguageModel(vocab_size)\n",
    "# send the model to device\n",
    "m = model.to(device)"
   ]
  },
  {
   "cell_type": "markdown",
   "id": "f0e3cffb",
   "metadata": {},
   "source": [
    "### Model Before Training  \n",
    "\n",
    "At this stage, the model has not yet been trained—it has only been initialized. However, we can already compute the loss on a random batch. Since the weights are initialized with a normal distribution \\( N(0,1) \\) for each dimension, the expected loss after initialization should be close to `-ln(1/vocab_size)`, as the entropy is maximal."
   ]
  },
  {
   "cell_type": "code",
   "execution_count": 148,
   "id": "62343cbc",
   "metadata": {},
   "outputs": [
    {
     "name": "stdout",
     "output_type": "stream",
     "text": [
      "torch.Size([32, 101])\n",
      "Expected loss 4.61512051684126\n",
      "Computed loss 4.9704203605651855\n"
     ]
    }
   ],
   "source": [
    "import math\n",
    "xb, yb = get_batch('train')\n",
    "logits, loss = m(xb, yb)\n",
    "print (logits.shape)\n",
    "print (f'Expected loss {-math.log(1.0/vocab_size)}')\n",
    "print (f'Computed loss {loss}')"
   ]
  },
  {
   "cell_type": "markdown",
   "id": "d0d44b50",
   "metadata": {},
   "source": [
    "### Using the Model for Prediction  \n",
    "\n",
    "To use the model for prediction, we need to provide an initial character to start the sequence—this is called the prompt. In our case, we can initialize the generation with the newline character (`\\n`) to start a new sentence.  \n",
    "\n",
    "#### Questions:  \n",
    "- Create a prompt as a tensor of size `(1,1)` containing the integer corresponding to the character `\\n`.  \n",
    "- Generate a sequence of 100 characters from this prompt using the functions `m.generate` and `decode`.  \n",
    "- How does the generated sentence look?"
   ]
  },
  {
   "cell_type": "code",
   "execution_count": 149,
   "id": "320d3ead",
   "metadata": {},
   "outputs": [
    {
     "name": "stdout",
     "output_type": "stream",
     "text": [
      "[3]\n",
      "['\\n?(»»TZUàyÉ,nFÎHàâçPAË8B3d-IïfP:3daèP)·4,CWOpÈS1ûFwÀaô.7Kkè;axlÆêëmr8JQla-QnÈF,mé4çM T8ISu!gj(ê-èTrSï']\n"
     ]
    }
   ],
   "source": [
    "print (encode(['\\n']))\n",
    "## YOUR CODE HERE\n",
    "generated_text = []\n",
    "for char in list(m.generate(torch.reshape(torch.tensor(encode(['\\n'])), (1, 1)), 100)):\n",
    "    generated_text.append(decode(list([int(i) for i in char])))\n",
    "print(generated_text)\n",
    "###"
   ]
  },
  {
   "cell_type": "markdown",
   "id": "3630d8c3",
   "metadata": {},
   "source": [
    "### Training  \n",
    "\n",
    "For training, we use the [AdamW](https://pytorch.org/docs/stable/generated/torch.optim.AdamW.html) optimizer with a learning rate of `1e-3`. Each training iteration consists of the following steps:  \n",
    "\n",
    "- Generate a batch  \n",
    "- Apply the neural network (forward pass) and compute the loss: `model(xb, yb)`  \n",
    "- Compute the gradient (after resetting accumulated gradients): `loss.backward()`  \n",
    "- Update the parameters: `optimizer.step()`  "
   ]
  },
  {
   "cell_type": "code",
   "execution_count": 156,
   "id": "05831b58",
   "metadata": {},
   "outputs": [
    {
     "name": "stdout",
     "output_type": "stream",
     "text": [
      "step 0: train loss 4.8549, val loss 4.7953\n",
      "step 10: train loss 4.7633, val loss 4.8356\n",
      "step 20: train loss 4.8049, val loss 4.9163\n",
      "step 30: train loss 4.7362, val loss 4.8654\n",
      "step 40: train loss 4.8355, val loss 4.8563\n",
      "step 50: train loss 4.7630, val loss 4.7572\n",
      "step 60: train loss 4.7536, val loss 4.8830\n",
      "step 70: train loss 4.7597, val loss 4.8103\n",
      "step 80: train loss 4.7719, val loss 4.8172\n",
      "step 90: train loss 4.7716, val loss 4.7750\n"
     ]
    }
   ],
   "source": [
    "max_iters = 100\n",
    "batch_size = 4\n",
    "eval_interval = 10\n",
    "learning_rate = 1e-3\n",
    "eval_iters = 20\n",
    "\n",
    "@torch.no_grad() # no gradient is computed here\n",
    "def estimate_loss():\n",
    "    \"\"\" Estimate the loss on eval_iters batch of train and val sets.\"\"\"\n",
    "    out = {}\n",
    "    model.eval()\n",
    "    for split in ['train', 'val']:\n",
    "        losses = torch.zeros(eval_iters)\n",
    "        for k in range(eval_iters):\n",
    "            X, Y = get_batch(split)\n",
    "            X = X.view(-1, 1)  # Reshape to (Batch, Time)\n",
    "            Y = Y.view(-1, 1)\n",
    "            logits, loss = model(X, Y)\n",
    "            losses[k] = loss.item()\n",
    "        out[split] = losses.mean()\n",
    "    model.train()\n",
    "    return out\n",
    "\n",
    "# re-create the model\n",
    "model = BigramLanguageModel(vocab_size)\n",
    "m = model.to(device)\n",
    "\n",
    "# create a PyTorch optimizer\n",
    "optimizer = torch.optim.AdamW(model.parameters(), lr=learning_rate)\n",
    "\n",
    "for iter in range(max_iters):\n",
    "\n",
    "    # every once in a while evaluate the loss on train and val sets\n",
    "    if iter % eval_interval == 0:\n",
    "        losses = estimate_loss()\n",
    "        print(f\"step {iter}: train loss {losses['train']:.4f}, val loss {losses['val']:.4f}\")\n",
    "\n",
    "    # sample a batch of data\n",
    "    xb, yb = get_batch('train')\n",
    "\n",
    "    # evaluate the loss\n",
    "    logits, loss = m(xb, yb)\n",
    "    optimizer.zero_grad(set_to_none=True)\n",
    "    loss.backward()\n",
    "    optimizer.step()\n"
   ]
  },
  {
   "cell_type": "markdown",
   "id": "512395a0",
   "metadata": {},
   "source": [
    "Once the network has been trained for 100 iterations, we can generate a sequence of characters.  \n",
    "\n",
    "#### Questions:  \n",
    "- What is the effect of training?  \n",
    "- Increase the number of iterations to 1,000 and then to 10,000. Note the obtained loss and the generated sentence. What do you observe?"
   ]
  },
  {
   "cell_type": "markdown",
   "id": "52bdbb21-99b1-413c-adf3-70b3421ea787",
   "metadata": {},
   "source": [
    "100 iterations : train loss 4.7716, val loss 4.7750 \\\n",
    "generated sequence : A5_3éSXGtfrùBÂPA[ëâQ2MRdÎéaùXGseïeu9?A(6,??xhMWw eVc6s0ï0ScUeÂf»8Ê38gCEDGÔ LD7·bG»9]TÎBÊfk«_QXxzÎ1T] \\\n",
    "1000 iterations : train loss 4.3266, val loss 4.1426 \\\n",
    "generated sequence : W8ëgrDZE4f\n",
    "U»dvÈcD0pÎI!G-T4»cAbOxâ!bE ï95E4HuYÈ·eÎkap9Fsy'(WûG2onQôk\n",
    "fï[·eëxzYI3J8jam-TÆV3J«52[AêvPî \\\n",
    "10000 iterations : train loss 2.4387, val loss 2.5172 \\\n",
    "generated sequence : St-'hez joeu  mTetre deur ber, têt die  ns s toucancerileujN5\n",
    "ESÆwVRx.»Urieuncet l'itte ce s d,\n",
    "4zo"
   ]
  },
  {
   "cell_type": "markdown",
   "id": "1270bdc1-890a-4942-b6fc-c77d4e00dc34",
   "metadata": {},
   "source": [
    "Training for 10 000 iterations improves the performance, we get more word looking sequences with alternating vowels and consonants and less number and letters with unusual accents. However the generated sequence remains meaningless."
   ]
  },
  {
   "cell_type": "code",
   "execution_count": 157,
   "id": "4071b998",
   "metadata": {},
   "outputs": [
    {
     "name": "stdout",
     "output_type": "stream",
     "text": [
      "\n",
      "A5_3éSXGtfrùBÂPA[ëâQ2MRdÎéaùXGseïeu9?A(6,??xhMWw eVc6s0ï0ScUeÂf»8Ê38gCEDGÔ LD7·bG»9]TÎBÊfk«_QXxzÎ1T]\n"
     ]
    }
   ],
   "source": [
    "idx = torch.ones((1,1), dtype=torch.long)*3\n",
    "print (decode(m.generate(idx, max_new_tokens=100)[0].tolist()))"
   ]
  },
  {
   "cell_type": "markdown",
   "id": "5dfd33b1",
   "metadata": {},
   "source": [
    "## Single Head Attention  \n",
    "\n",
    "We will now implement the basic attention mechanism. For each pair of words in the sequence, this mechanism combines:  \n",
    "- **Q** (*query*): the information being searched for,  \n",
    "- **K** (*key*): the information retrieved,  \n",
    "- **V** (*value*): a result vector calculated from the attention mechanism.  \n",
    "\n",
    "![single head attention](images/single_head_attention.png)  \n",
    "\n",
    "### Masking  \n",
    "\n",
    "However, since we are using the model to generate sequences, we must not use characters that come after the current character—these are precisely the characters we aim to predict during training. *The future should not be used to predict the future.*  \n",
    "\n",
    "To enforce this constraint, we integrate a **masking matrix** into the process. This matrix ensures that:  \n",
    "- For the first character in the sequence, only that character is available for prediction (no context).  \n",
    "- For the second character, only the first and second characters can be used.  \n",
    "- For the third character, only the first three characters are accessible, and so on.  \n",
    "\n",
    "This results in a **lower triangular matrix**, where each row is normalized (rows sum to 1)."
   ]
  },
  {
   "cell_type": "code",
   "execution_count": 158,
   "id": "d15fbb1d",
   "metadata": {},
   "outputs": [
    {
     "name": "stdout",
     "output_type": "stream",
     "text": [
      "tensor([[1.0000, 0.0000, 0.0000, 0.0000, 0.0000, 0.0000, 0.0000, 0.0000],\n",
      "        [0.5000, 0.5000, 0.0000, 0.0000, 0.0000, 0.0000, 0.0000, 0.0000],\n",
      "        [0.3333, 0.3333, 0.3333, 0.0000, 0.0000, 0.0000, 0.0000, 0.0000],\n",
      "        [0.2500, 0.2500, 0.2500, 0.2500, 0.0000, 0.0000, 0.0000, 0.0000],\n",
      "        [0.2000, 0.2000, 0.2000, 0.2000, 0.2000, 0.0000, 0.0000, 0.0000],\n",
      "        [0.1667, 0.1667, 0.1667, 0.1667, 0.1667, 0.1667, 0.0000, 0.0000],\n",
      "        [0.1429, 0.1429, 0.1429, 0.1429, 0.1429, 0.1429, 0.1429, 0.0000],\n",
      "        [0.1250, 0.1250, 0.1250, 0.1250, 0.1250, 0.1250, 0.1250, 0.1250]])\n"
     ]
    }
   ],
   "source": [
    "T = 8\n",
    "\n",
    "# first version of the contraints with matrix multiplication\n",
    "# create a lower triangular matrix\n",
    "weights0 = torch.tril(torch.ones(T,T))\n",
    "# normalize each row\n",
    "weights0 = weights0 / weights0.sum(1, keepdim=True) \n",
    "print (weights0)"
   ]
  },
  {
   "cell_type": "markdown",
   "id": "1f1eb4a7",
   "metadata": {},
   "source": [
    "The [`softmax`](https://pytorch.org/docs/stable/generated/torch.nn.functional.softmax.html) function provides another way to achieve normalization.  \n",
    "\n",
    "#### Question:  \n",
    "- Verify that applying `softmax` results in the same lower triangular matrix."
   ]
  },
  {
   "cell_type": "code",
   "execution_count": 159,
   "id": "75455f0e",
   "metadata": {},
   "outputs": [
    {
     "name": "stdout",
     "output_type": "stream",
     "text": [
      "tensor([[1.0000, 0.0000, 0.0000, 0.0000, 0.0000, 0.0000, 0.0000, 0.0000],\n",
      "        [0.5000, 0.5000, 0.0000, 0.0000, 0.0000, 0.0000, 0.0000, 0.0000],\n",
      "        [0.3333, 0.3333, 0.3333, 0.0000, 0.0000, 0.0000, 0.0000, 0.0000],\n",
      "        [0.2500, 0.2500, 0.2500, 0.2500, 0.0000, 0.0000, 0.0000, 0.0000],\n",
      "        [0.2000, 0.2000, 0.2000, 0.2000, 0.2000, 0.0000, 0.0000, 0.0000],\n",
      "        [0.1667, 0.1667, 0.1667, 0.1667, 0.1667, 0.1667, 0.0000, 0.0000],\n",
      "        [0.1429, 0.1429, 0.1429, 0.1429, 0.1429, 0.1429, 0.1429, 0.0000],\n",
      "        [0.1250, 0.1250, 0.1250, 0.1250, 0.1250, 0.1250, 0.1250, 0.1250]])\n"
     ]
    }
   ],
   "source": [
    "tril = torch.tril(torch.ones(T,T))\n",
    "weights = torch.tril(torch.ones(T,T))\n",
    "weights = weights.masked_fill(tril== 0, float('-inf'))\n",
    "weights = nn.functional.softmax(weights, dim=-1)\n",
    "print (weights)"
   ]
  },
  {
   "cell_type": "markdown",
   "id": "4ccd3173-ae42-47b9-8cae-f81c69c8d351",
   "metadata": {},
   "source": [
    "We get the same matrix"
   ]
  },
  {
   "cell_type": "markdown",
   "id": "30f76c8b",
   "metadata": {},
   "source": [
    "### Implementation  \n",
    "\n",
    "We can now implement the attention layer based on the following formula:  \n",
    "\n",
    "![attention_formula](images/attention_formula.png)  \n",
    "\n",
    "This involves computing the **queries (Q)**, **keys (K)**, and **values (V)**, applying the **masking mechanism**, and using the **softmax function** to normalize the attention scores before computing the weighted sum of values."
   ]
  },
  {
   "cell_type": "markdown",
   "id": "02681533",
   "metadata": {},
   "source": [
    "#### Questions:  \n",
    "\n",
    "- Create the **key**, **query**, and **value** layers as linear layers of dimension `C × head_size`.  \n",
    "- Apply these layers to `x`.  \n",
    "- Compute the attention weights:  \n",
    "  ```python\n",
    "  weights = query @ key.transpose(-2, -1)\n",
    "  ```\n",
    "  (Transpose the second and third dimensions of `key` to enable matrix multiplication).  \n",
    "- Apply the **normalization factor** (typically, divide by `sqrt(head_size)`).  \n",
    "- Apply the **triangular mask** and the **softmax** function to `weights`.  \n",
    "- Apply the **value** layer to `x`.  \n",
    "- Compute the final output:  \n",
    "  ```python\n",
    "  out = weights @ value(x)\n",
    "  ```"
   ]
  },
  {
   "cell_type": "code",
   "execution_count": 170,
   "id": "129fe994",
   "metadata": {},
   "outputs": [
    {
     "name": "stdout",
     "output_type": "stream",
     "text": [
      "tensor([[0.2048, 0.0000, 0.0000, 0.0000, 0.0000, 0.0000, 0.0000, 0.0000],\n",
      "        [0.1922, 0.4723, 0.0000, 0.0000, 0.0000, 0.0000, 0.0000, 0.0000],\n",
      "        [0.0792, 0.0293, 0.5324, 0.0000, 0.0000, 0.0000, 0.0000, 0.0000],\n",
      "        [0.0755, 0.0966, 0.0616, 0.2005, 0.0000, 0.0000, 0.0000, 0.0000],\n",
      "        [0.0175, 0.0027, 0.1762, 0.3046, 0.0833, 0.0000, 0.0000, 0.0000],\n",
      "        [0.0044, 0.2432, 0.0212, 0.0435, 0.0936, 0.4072, 0.0000, 0.0000],\n",
      "        [0.0201, 0.0536, 0.1209, 0.0543, 0.5081, 0.2761, 0.0555, 0.0000],\n",
      "        [0.4062, 0.1022, 0.0877, 0.3972, 0.3150, 0.3168, 0.9445, 1.0000]],\n",
      "       grad_fn=<SelectBackward0>)\n",
      "tensor([[-1.5037e-01,  1.2243e-01, -2.5650e-02, -5.4654e-04, -6.9596e-03,\n",
      "          9.5414e-02,  3.5182e-02,  1.8299e-02,  4.8209e-02,  1.6416e-01,\n",
      "         -1.4683e-01, -1.1650e-01,  1.2587e-01,  9.2077e-02, -1.5294e-01,\n",
      "          6.9406e-02],\n",
      "        [-7.9962e-02,  2.2217e-01,  9.5810e-02, -1.7323e-01, -2.4115e-02,\n",
      "          2.0551e-02, -3.8572e-01, -1.4494e-01, -1.0411e-01,  2.5314e-01,\n",
      "          2.0773e-03, -9.4914e-02, -2.5809e-01,  3.1341e-02,  8.8155e-02,\n",
      "          2.7094e-01],\n",
      "        [-3.2097e-01,  8.8520e-02, -1.5651e-02,  5.5911e-01, -2.3408e-02,\n",
      "         -6.5531e-02, -3.6947e-02,  3.1883e-01, -4.7693e-02,  5.1816e-02,\n",
      "         -2.8574e-01, -6.5425e-01,  4.3326e-01, -4.6487e-02, -5.7418e-01,\n",
      "          4.7382e-01],\n",
      "        [-3.3275e-01,  1.4674e-01,  5.1820e-02, -1.4068e-02, -6.8714e-02,\n",
      "          6.6977e-03, -1.1883e-01,  1.8393e-01, -7.8255e-02, -1.3709e-02,\n",
      "         -4.7676e-02, -2.1535e-01,  1.8779e-02,  1.0799e-01, -5.3452e-02,\n",
      "          4.8962e-03],\n",
      "        [-4.8255e-01,  1.8112e-01,  2.5060e-01,  1.5322e-01, -1.0149e-01,\n",
      "          4.8996e-02, -9.9492e-02,  4.3322e-01, -1.1488e-01, -4.7798e-02,\n",
      "         -7.6418e-02, -3.4256e-01,  7.7912e-02,  1.9214e-01, -2.4901e-01,\n",
      "          1.9809e-02],\n",
      "        [-2.8561e-01, -1.9642e-01,  4.9914e-01, -2.2837e-01,  3.4007e-01,\n",
      "          2.1692e-02, -2.9974e-01,  2.1787e-01, -1.4598e-01, -3.5737e-01,\n",
      "          4.0929e-01, -1.0286e-01, -6.0234e-01, -4.4538e-02,  3.5150e-01,\n",
      "         -1.3580e-01],\n",
      "        [-2.5449e-01,  8.9666e-02,  1.4276e+00,  1.8426e-01,  2.0797e-01,\n",
      "          4.2843e-01, -2.7901e-01,  5.7552e-01, -8.6855e-02,  1.6303e-01,\n",
      "          1.9706e-01, -6.1053e-02, -6.1299e-01,  3.1800e-01, -4.3563e-01,\n",
      "          1.2887e-01],\n",
      "        [-1.9697e-01, -2.9341e-02,  2.3564e+00, -7.2534e-01,  2.9796e-01,\n",
      "          7.5828e-01, -1.0898e+00, -9.1513e-02,  6.9573e-01, -3.8872e-01,\n",
      "          2.5433e-01,  8.8633e-02, -1.1145e+00, -2.1200e-01,  5.6452e-01,\n",
      "         -9.5105e-01]], grad_fn=<SelectBackward0>)\n"
     ]
    }
   ],
   "source": [
    "head_size = 16\n",
    "B, T, C = 4, 8, 32\n",
    "x = torch.randn(B, T, C)\n",
    "## YOUR CODE HERE\n",
    "# define the Key layer  \n",
    "key = nn.Linear(in_features=C, out_features=head_size)\n",
    "# define the Query layer\n",
    "query = nn.Linear(in_features=C, out_features=head_size)\n",
    "# define the Value layer\n",
    "value = nn.Linear(in_features=C, out_features=head_size)\n",
    "# apply each layer to the input\n",
    "k =  key(x) # (B, T, head_size)\n",
    "q =  query(x) # (B, T, head_size)\n",
    "v =  value(x) # (B, T, head_size)\n",
    "# compute the normalize product between Q and K \n",
    "weights = q @ k.transpose(-2, -1) # (B, T, head_size) @ (B, 16, head_size) -> (B, T, T)\n",
    "# apply the mask (lower triangular matrix)\n",
    "weights = weights.masked_fill(tril== 0, float('-inf'))\n",
    "# apply the softmax\n",
    "weights = nn.functional.softmax(weights, dim=1)\n",
    "###\n",
    "out  = weights @ value(x) # (B, T, head_size)\n",
    "\n",
    "# print the result\n",
    "print(weights[0])\n",
    "print(out[0])"
   ]
  },
  {
   "cell_type": "markdown",
   "id": "db591771",
   "metadata": {},
   "source": [
    "### Questions:  \n",
    "\n",
    "- Copy your code into `gpt_single_head.py`:  \n",
    "  - Define the **key**, **query**, and **value** layers in the **constructor** of the `Head` class.  \n",
    "  - Implement the **computations** in the `forward` function.  \n",
    "- Train the model.  \n",
    "- What are the **training** and **validation** losses?  \n",
    "- Does the generated text appear **better** compared to the previous model?"
   ]
  },
  {
   "cell_type": "code",
   "execution_count": 7,
   "id": "9f407483-6b4a-4c0d-9bea-6aceb496aaee",
   "metadata": {},
   "outputs": [
    {
     "name": "stdout",
     "output_type": "stream",
     "text": [
      "0.009893 M parameters\n",
      "step 0: train loss 4.6812, val loss 4.6833\n",
      "step 500: train loss 2.7358, val loss 2.8455\n",
      "step 1000: train loss 2.4925, val loss 2.5880\n",
      "step 1500: train loss 2.4397, val loss 2.5376\n",
      "step 2000: train loss 2.3942, val loss 2.5404\n",
      "step 2500: train loss 2.3766, val loss 2.5541\n",
      "step 3000: train loss 2.3624, val loss 2.5050\n",
      "step 3500: train loss 2.3424, val loss 2.4783\n",
      "step 4000: train loss 2.3457, val loss 2.3882\n",
      "step 4500: train loss 2.3352, val loss 2.4472\n",
      "step 4999: train loss 2.3324, val loss 2.4422\n",
      "\n",
      "L'ouesages honan n l laiver me! he jene, ces as à-êle ves les cèrat-t s me  l'anntomgiesumes mye is che.\n",
      ".\n",
      " hens me cha cer dountre, cavis, sachaintarcorile reumait les, et decoru eques mes daient chaîvou ouoisey: ffoudeut,  le lai ge Uu darse te, dansomdaint en;\n",
      "IENe  s'heuèr d'ont, strêteursoun jauitosonernonnsedite veuxtaivit fan cesceux;\n",
      "\n",
      "Ohuveaît mans hants st mbre Pa lais st ouvre e fource ce Rêterivand'oruL'ame maurspel qu'rpoutét, brsonus apauries oriembetteursi tcêmevanite bond'hous epr\n"
     ]
    }
   ],
   "source": [
    "%run gpt_single_head.py"
   ]
  },
  {
   "cell_type": "markdown",
   "id": "3004aad6-0c7d-446e-a09e-bd085bece748",
   "metadata": {},
   "source": [
    "The loss is lower than with the previous model and the text generatiion is better (no unusual characters or numbers) even if it is still meaningless."
   ]
  },
  {
   "cell_type": "markdown",
   "id": "c043812e",
   "metadata": {},
   "source": [
    "## Multi-Head Attention  \n",
    "\n",
    "Multi-head attention is simply the parallel computation of multiple **single-head attention** mechanisms. Each **single-head attention** output is concatenated to form the output of the **multi-head attention** module. In the original paper's illustration, the number of heads in the **multi-head attention** is denoted as `h`.  \n",
    "\n",
    "To allow for **weighted combinations** of each single-head attention output, a **linear transformation layer** is added after concatenation.  \n",
    "\n",
    "![multi head attention](images/multi_head_attention.png)  \n",
    "\n",
    "#### Questions:  \n",
    "\n",
    "- In the **constructor**, create a list containing `num_heads` instances of the `Head` module using PyTorch’s [`ModuleList`](https://pytorch.org/docs/stable/generated/torch.nn.ModuleList.html).  \n",
    "- In the `forward` function:  \n",
    "  - Apply each **single-head attention** to the input.  \n",
    "  - Concatenate the results using PyTorch’s [`cat`](https://pytorch.org/docs/stable/generated/torch.cat.html) function."
   ]
  },
  {
   "cell_type": "code",
   "execution_count": 9,
   "id": "5fab8977",
   "metadata": {},
   "outputs": [],
   "source": [
    "class MultiHeadAttention(nn.Module):\n",
    "    \"\"\" multiple heads of self-attention in parallel \"\"\"\n",
    "\n",
    "    def __init__(self, num_heads, head_size):\n",
    "        super().__init__()\n",
    "        ## YOUR CODE HERE\n",
    "        ## list of num_heads modules of type Head\n",
    "        self.heads = nn.ModuleList([Head(head_size) for _ in range(num_heads)])\n",
    "        self.proj = nn.Linear(in_features=num_heads * head_size, out_features=n_embd)\n",
    "        ###\n",
    "        \n",
    "    def forward(self, x):\n",
    "        ## YOUR CODE HERE\n",
    "        ## apply each head in self.heads to x and concat the results \n",
    "        out = torch.cat([h(x) for h in self.heads], dim=-1)\n",
    "        out = self.proj(out)  # has shape: (B, T, n_embd) \n",
    "        return out\n"
   ]
  },
  {
   "cell_type": "markdown",
   "id": "56a39989",
   "metadata": {},
   "source": [
    "#### Questions:  \n",
    "\n",
    "1. **Copy** the file `gpt_single_head.py` and rename it as `gpt_multi_head.py`.  \n",
    "2. **Add** the `MultiHeadAttention` module in `gpt_multi_head.py`.  \n",
    "3. At the **beginning of the file**, add a parameter:  \n",
    "   ```python\n",
    "   n_head = 4\n",
    "   ```\n",
    "4. In the `BigramLanguageModel` module, **replace** the `Head` module with `MultiHeadAttention`, using the parameters:  \n",
    "   ```python\n",
    "   num_heads = n_head\n",
    "   head_size = n_embd // n_head\n",
    "   ```\n",
    "   This ensures the total number of parameters remains **the same**.  \n",
    "5. **Retrain the model** and note:  \n",
    "   - The total number of **parameters**  \n",
    "   - The **training** and **validation** losses obtained  \n",
    "\n",
    "**Expected Output Example:**  \n",
    "```\n",
    "0.009893 M parameters  \n",
    "step 4999: train loss 2.1570, val loss 2.1802  \n",
    "```"
   ]
  },
  {
   "cell_type": "code",
   "execution_count": 10,
   "id": "7898ee17-a998-4f11-a775-42d1c6b1960b",
   "metadata": {},
   "outputs": [
    {
     "name": "stdout",
     "output_type": "stream",
     "text": [
      "0.010949 M parameters\n",
      "step 0: train loss 4.5778, val loss 4.5397\n",
      "step 500: train loss 2.5540, val loss 2.5864\n",
      "step 1000: train loss 2.3802, val loss 2.3900\n",
      "step 1500: train loss 2.3149, val loss 2.3378\n",
      "step 2000: train loss 2.2636, val loss 2.2716\n",
      "step 2500: train loss 2.2354, val loss 2.2548\n",
      "step 3000: train loss 2.2079, val loss 2.2419\n",
      "step 3500: train loss 2.1835, val loss 2.2246\n",
      "step 4000: train loss 2.1798, val loss 2.1832\n",
      "step 4500: train loss 2.1558, val loss 2.1662\n",
      "step 4999: train loss 2.1561, val loss 2.1703\n",
      "\n",
      "   \n",
      "     Le lèrans; empandu den sans lEt l'ombes aflle nes mas,\n",
      "Lansirite dantest jeux, sazongez joux,\n",
      "       D'orge aile vouxt lus ue  pasr combre enins es'our nui des cromme un le qu'uné,\n",
      "L'enue pror, ma voits de tages,\n",
      "Le\n",
      "Sont l'irangires de suriendss-t ces fêmes ala desclome l'anbrat l'ende rutommen tes se gre, su plis allau:-M-e chotrê void, e  gre de denouce fla pourièrie lessaproil;\n",
      "Lu leiss,\n",
      "Caêtre?\n",
      "Jaisontore,\n",
      "Jeux part;\n",
      "Ent rait farêbraîle;\n",
      "Es l'une;\n",
      "Su, me  Nas l'ail for âtre, plre qu\n"
     ]
    }
   ],
   "source": [
    "%run gpt_multi_head.py"
   ]
  },
  {
   "cell_type": "markdown",
   "id": "333d3f27",
   "metadata": {},
   "source": [
    "## Adding a FeedForward Computation Layer  \n",
    "\n",
    "After the **attention layers**, which collect information from the sequence, a **computation layer** is added to combine all the gathered information.  \n",
    "\n",
    "This layer is a simple **Multi-Layer Perceptron (MLP)** with:  \n",
    "- One **hidden layer**,  \n",
    "- A **ReLU non-linearity** using [`ReLU`](https://pytorch.org/docs/stable/generated/torch.nn.ReLU.html).  \n",
    "\n",
    "### Architecture:  \n",
    "\n",
    "<img src=\"images/multi_ff.png\" alt=\"multi feedforward\" width=\"200\">\n"
   ]
  },
  {
   "cell_type": "code",
   "execution_count": 11,
   "id": "915f8148",
   "metadata": {},
   "outputs": [],
   "source": [
    "class FeedForward(nn.Module):\n",
    "    \"\"\" a simple MLP with RELU \"\"\"\n",
    "\n",
    "    def __init__(self, n_embd):\n",
    "        super().__init__()\n",
    "        self.net = nn.Sequential(\n",
    "            nn.Linear(n_embd, n_embd),\n",
    "            nn.ReLU(),\n",
    "        )\n",
    "\n",
    "    def forward(self, x):\n",
    "        return self.net(x)"
   ]
  },
  {
   "cell_type": "markdown",
   "id": "f0ca5ef7",
   "metadata": {},
   "source": [
    "#### Questions:  \n",
    "\n",
    "1. **Add** the `FeedForward` module to your `gpt_multi_head.py` file.  \n",
    "2. **Integrate** this `FeedForward` layer **after** the **multi-head attention** module.  \n",
    "3. **Retrain the model** and note:  \n",
    "   - The total **number of parameters**  \n",
    "   - The **training** and **validation** losses obtained  \n",
    "\n",
    "**Expected Output Example:**  \n",
    "```\n",
    "0.010949 M parameters  \n",
    "step 4999: train loss 2.1290, val loss 2.1216  \n",
    "```"
   ]
  },
  {
   "cell_type": "code",
   "execution_count": 13,
   "id": "3f44ae1e-adc2-40ab-9573-a31f57f310d4",
   "metadata": {},
   "outputs": [
    {
     "name": "stdout",
     "output_type": "stream",
     "text": [
      "0.012005 M parameters\n",
      "step 0: train loss 4.6450, val loss 4.6300\n",
      "step 500: train loss 2.5354, val loss 2.5274\n",
      "step 1000: train loss 2.3648, val loss 2.3618\n",
      "step 1500: train loss 2.2954, val loss 2.2953\n",
      "step 2000: train loss 2.2709, val loss 2.2565\n",
      "step 2500: train loss 2.2336, val loss 2.2737\n",
      "step 3000: train loss 2.2109, val loss 2.2342\n",
      "step 3500: train loss 2.1778, val loss 2.1923\n",
      "step 4000: train loss 2.1647, val loss 2.1576\n",
      "step 4500: train loss 2.1413, val loss 2.1632\n",
      "step 4999: train loss 2.1229, val loss 2.1394\n",
      "\n",
      "         Vous as dortière autié deux deven-je el boncore quau du sarces sontres, dait la rit l'armens yhétô là jachère;\n",
      "S'hous l'ute,\n",
      "Nuie bait la porgeux, learte, sra quut vongez leulempe sour te etténonte,\n",
      "         Qua bri,\n",
      "\n",
      "\n",
      "\n",
      "En sarve\n",
      "Sen querdeine\n",
      "Pe pachouffIilges, juréla bens fun torme où fommaclit cola pil flaien gaveveille ditanfre,\n",
      "Et ne saitre!\n",
      "XVQuans la eule mibla de sombandis du ruit sora vi, et me, mavosseurqu'echangella fle et la cre\n",
      "       Sa ginouyon le moure\n",
      "L'un, loins, l'êtan\n"
     ]
    }
   ],
   "source": [
    "%run gpt_multi_head.py"
   ]
  },
  {
   "cell_type": "markdown",
   "id": "bc16dfb3",
   "metadata": {},
   "source": [
    "## Stacking Blocks  \n",
    "\n",
    "The network we have built so far represents just **one block** of the final model. Now, we can **stack multiple blocks** of **multi-head attention** to create a **deeper** network.  \n",
    "\n",
    "### Architecture:  \n",
    "![multi feedforward](images/multi_bloc.png)  \n",
    "\n",
    "The following code defines a **block**:  \n"
   ]
  },
  {
   "cell_type": "code",
   "execution_count": 14,
   "id": "5fbdecf5",
   "metadata": {},
   "outputs": [],
   "source": [
    "class Block(nn.Module):\n",
    "    \"\"\" A single bloc of multi-head attention \"\"\"\n",
    "\n",
    "    def __init__(self, n_embd, n_head):\n",
    "        super().__init__()\n",
    "        head_size = n_embd // n_head\n",
    "        self.sa = MultiHeadAttention(n_head, head_size)\n",
    "        self.ffwd = FeedForward(n_embd)\n",
    "\n",
    "    def forward(self, x):\n",
    "        x = self.sa(x)\n",
    "        x = self.ffwd(x)\n",
    "        return x"
   ]
  },
  {
   "cell_type": "markdown",
   "id": "3144fff7",
   "metadata": {},
   "source": [
    "#### Questions:  \n",
    "\n",
    "- Add the `Block` module to `gpt_multi_head.py`.  \n",
    "- Modify the `BigramLanguageModel` code to include **three** instances of `Block(n_embd, n_head=4)`, using a [`Sequential`](https://pytorch.org/docs/stable/generated/torch.nn.Sequential.html) container **instead of** `MultiHeadAttention` and `FeedForward`.  \n",
    "- Retrain the model and note:  \n",
    "  - The **number of parameters**  \n",
    "  - The **training** and **validation** losses obtained  \n",
    "\n",
    "**Expected Output Example:**  \n",
    "```\n",
    "0.019205 M parameters  \n",
    "step 4999: train loss 2.2080, val loss 2.2213  \n",
    "```"
   ]
  },
  {
   "cell_type": "code",
   "execution_count": 15,
   "id": "8c81d46d-c3cb-4e31-b67c-4d81ff63a8f8",
   "metadata": {},
   "outputs": [
    {
     "name": "stdout",
     "output_type": "stream",
     "text": [
      "0.025541 M parameters\n",
      "step 0: train loss 4.6601, val loss 4.6732\n",
      "step 500: train loss 3.1763, val loss 3.1895\n",
      "step 1000: train loss 2.9343, val loss 2.8924\n",
      "step 1500: train loss 2.8885, val loss 2.8657\n",
      "step 2000: train loss 2.7241, val loss 2.7018\n",
      "step 2500: train loss 2.6437, val loss 2.6216\n",
      "step 3000: train loss 2.5328, val loss 2.5382\n",
      "step 3500: train loss 2.4693, val loss 2.4731\n",
      "step 4000: train loss 2.4189, val loss 2.4316\n",
      "step 4500: train loss 2.3884, val loss 2.4140\n",
      "step 4999: train loss 2.3552, val loss 2.3640\n",
      "\n",
      "\n",
      "\n",
      "»Lur:s\n",
      "Je noun le pourt lu sun ettuaur bErhen carbos lecabConserers v'houmréindens i froncoir ver dedt vorres costte! sre pans sens gagme: panits quu de darme elboure domppre êrecrrhh'el cette-utd, jerets bopt nourse, carmabeu, Mi! soirrixe fonsres élaur embhèpome onule cee soiromamen.\n",
      "E taiad en l''aucêtteu nous ses quu taui le manse\n",
      "êrr t'er s canuunsé en daix pen floute;\n",
      "L''ensmeuve cogômbense non quu virme m'lâllan nlus vaiucée silré fis quu réous son damte prignétlen sanut?\n",
      "\n",
      "Jen bas ranpt\n"
     ]
    }
   ],
   "source": [
    "%run gpt_multi_head.py"
   ]
  },
  {
   "cell_type": "markdown",
   "id": "be02d77a",
   "metadata": {},
   "source": [
    "## Improving Training  \n",
    "\n",
    "If we want to continue increasing the **network size**, we need to incorporate layers that **enhance training stability** and **improve generalization** (reducing overfitting). These layers include:  \n",
    "\n",
    "- **Skip connections** (or **residual connections**)  \n",
    "- **Normalization layers**  \n",
    "- **Dropout**  \n",
    "\n",
    "### Updated Architecture:  \n",
    "\n",
    "<img src=\"images/multi_skip_norm.png\" alt=\"multi feedforward\" width=\"200\">\n",
    "\n",
    "---\n",
    "\n",
    "#### Questions:  \n",
    "\n",
    "1. In the `Block` module, **add a skip connection** by summing the input at each step:  \n",
    "   ```python\n",
    "   x = x + self.sa(self.ln1(x))\n",
    "   x = x + self.ffwd(self.ln2(x))\n",
    "   ```  \n",
    "   \n",
    "2. In the `Block` module, **add two** [`LayerNorm`](https://pytorch.org/docs/stable/generated/torch.nn.LayerNorm.html) layers of size `n_embd`:  \n",
    "   - **Before** the `Multi-Head Attention` layer.  \n",
    "   - **Before** the `FeedForward` layer.  \n",
    "\n",
    "3. **After the sequence of 3 blocks**, add a **LayerNorm** layer of size `n_embd`.  \n",
    "\n",
    "4. Define a variable at the **beginning of the file**:  \n",
    "   ```python\n",
    "   dropout = 0.2\n",
    "   ```\n",
    "   Then add a [`Dropout`](https://pytorch.org/docs/stable/generated/torch.nn.Dropout.html) layer:  \n",
    "   - **After** the `ReLU` activation in `FeedForward`.  \n",
    "   - **After** the `Multi-Head Attention` layer in `MultiHeadAttention`.  \n",
    "   - **After** the `softmax` layer in the single-head attention `Head`.  \n",
    "\n",
    "5. **Retrain the model** and note:  \n",
    "   - The **number of parameters**  \n",
    "   - The **training** and **validation** losses  \n",
    "\n",
    "---\n",
    "\n",
    "**Expected Output Example:**  \n",
    "```\n",
    "0.019653 M parameters  \n",
    "```"
   ]
  },
  {
   "cell_type": "code",
   "execution_count": 16,
   "id": "699b8aa4-f07e-46e9-adbc-f4ecfb2c27e7",
   "metadata": {},
   "outputs": [
    {
     "name": "stdout",
     "output_type": "stream",
     "text": [
      "0.025989 M parameters\n",
      "step 0: train loss 4.7928, val loss 4.8084\n",
      "step 500: train loss 2.4509, val loss 2.4351\n",
      "step 1000: train loss 2.3046, val loss 2.3366\n",
      "step 1500: train loss 2.2310, val loss 2.2343\n",
      "step 2000: train loss 2.1857, val loss 2.2111\n",
      "step 2500: train loss 2.1638, val loss 2.1709\n",
      "step 3000: train loss 2.1453, val loss 2.1205\n",
      "step 3500: train loss 2.1199, val loss 2.1238\n",
      "step 4000: train loss 2.1086, val loss 2.1078\n",
      "step 4500: train loss 2.0827, val loss 2.0781\n",
      "step 4999: train loss 2.0777, val loss 2.0804\n",
      "\n",
      "          ge rabe chanceraien ec ensur dèce à au dous luis cetéjousée   quiest la coutet nles con en de re cur léons sessouffout maierempl'échazant manstre ill, je te l'oalte 14 rant, cour hes pourabrit roil! metéss, latéthirlee loufret;\n",
      "          Nous respâmer sandechapraituer pourflent, le li annend âme, usénoue dastre et-mosse cénrouté,\n",
      "«De,\n",
      "Le ces poustondu dinchurs d'oufiet que dièseone aileitesvoy,\n",
      "Oordu mes ve,\n",
      "Aurdurre Sanne Qua ne  immeu  vouffrance,\n",
      "Tousroi, d'hureran que étur dinchit \n"
     ]
    }
   ],
   "source": [
    "%run gpt_multi_head.py"
   ]
  },
  {
   "cell_type": "markdown",
   "id": "d4733a17",
   "metadata": {},
   "source": [
    "## Conclusion  \n",
    "\n",
    "The key components of **GPT-2** are now in place. The next step is to **scale up** the model and train it on a **much larger** dataset. For comparison, the parameters of [GPT-2](https://huggingface.co/transformers/v2.11.0/model_doc/gpt2.html) are:  \n",
    "\n",
    "- **`vocab_size = 50257`** → GPT-2 models **subword tokens**, while we model **characters**. For us, `vocab_size = 100`.  \n",
    "- **`n_positions = 1024`** → The maximum **context size**. For us, it's `block_size = 8`.  \n",
    "- **`n_embd = 768`** → The **embedding dimension**. For us, it's `n_embd = 32`.  \n",
    "- **`n_layer = 12`** → The number of **blocks**. For us, it's `3`.  \n",
    "- **`n_head = 12`** → The number of **multi-head attention layers**. For us, it's `4`.  \n",
    "\n",
    "Overall, **GPT-2** consists of **1.5 billion parameters** and was trained on **8 million web pages**, totaling **40 GB of text**.  \n",
    "\n",
    "---\n",
    "\n",
    "### **Training Results**  \n",
    "```text\n",
    "10.816613 M parameters  \n",
    "step 0: train loss 4.7847, val loss 4.7701  \n",
    "step 4999: train loss 0.2683, val loss 2.1161  \n",
    "time: 31m47.910s   \n",
    "```\n",
    "\n",
    "### **Generated Text Sample:**  \n",
    "\n",
    "```text\n",
    "Le pêcheur où l'homme en peu de Carevante  \n",
    "Sa conter des chosses qu'en ses yoitn!  \n",
    "\n",
    "Ils sont là-hauts parler à leurs ténèbres  \n",
    "A ceux qu'on rêve aux oiseaux des cheveux,  \n",
    "Et celus qu'on tourna jamais sous le front;  \n",
    "Ils se disent tu mêle aux univers.  \n",
    "J'ai vu Jean vu France, potte; petits contempler,  \n",
    "Et petié calme au milibre et versait,  \n",
    "M'éblouissant, emportant, écoute, ingorancessible,  \n",
    "On meurt s'efferayait.....--Pas cont âme parle en Apparia!  \n",
    "```"
   ]
  },
  {
   "cell_type": "markdown",
   "id": "9498389b",
   "metadata": {},
   "source": []
  }
 ],
 "metadata": {
  "kernelspec": {
   "display_name": "Python 3 (ipykernel)",
   "language": "python",
   "name": "python3"
  },
  "language_info": {
   "codemirror_mode": {
    "name": "ipython",
    "version": 3
   },
   "file_extension": ".py",
   "mimetype": "text/x-python",
   "name": "python",
   "nbconvert_exporter": "python",
   "pygments_lexer": "ipython3",
   "version": "3.12.9"
  }
 },
 "nbformat": 4,
 "nbformat_minor": 5
}
